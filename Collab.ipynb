{
 "cells": [
  {
   "cell_type": "code",
   "execution_count": 1,
   "metadata": {},
   "outputs": [
    {
     "name": "stdout",
     "output_type": "stream",
     "text": [
      "Aula 1 do LAB de Ánalise de Dados\n"
     ]
    }
   ],
   "source": [
    "print(\"Aula 1 do LAB de Ánalise de Dados\")"
   ]
  },
  {
   "cell_type": "code",
   "execution_count": 3,
   "metadata": {},
   "outputs": [
    {
     "name": "stdout",
     "output_type": "stream",
     "text": [
      "15 adição\n",
      "-13 subtração\n",
      "40 multiplicação\n",
      "5.0 divisão\n",
      "2 quociente\n",
      "2 resto\n",
      "10000 potência\n",
      "16 prioridade de operações\n"
     ]
    }
   ],
   "source": [
    "print(1+10+4, \"adição\")\n",
    "print(1-10-4, \"subtração\")\n",
    "print(1*10*4, \"multiplicação\")\n",
    "print(10/2, \"divisão\")\n",
    "print(10//4, \"quociente\")\n",
    "print(10%4, \"resto\")\n",
    "print(10**4, \"potência\")\n",
    "print((2+2)*4, \"prioridade de operações\")\n",
    "\n"
   ]
  },
  {
   "cell_type": "code",
   "execution_count": null,
   "metadata": {},
   "outputs": [],
   "source": [
    "#Váriaveis de Texto\n",
    "nome = \"Lucas Fernandes\"\n",
    "vartext = str(\"1111\")\n",
    "print(nome, vartext)\n",
    "vartext = vartext + str(5)"
   ]
  },
  {
   "cell_type": "code",
   "execution_count": null,
   "metadata": {},
   "outputs": [],
   "source": [
    "#Váriaveis numéricas\n",
    "var_int_01 = 100\n",
    "var_int_02 = int(200)\n",
    "print(var_int_01, var_int_02)"
   ]
  },
  {
   "cell_type": "code",
   "execution_count": null,
   "metadata": {},
   "outputs": [],
   "source": [
    "#Váriaveis flutuantes\n",
    "var_flut_01 = 3.14156\n",
    "var_flut_02 = float(10.16532)\n",
    "print(var_flut_01, var_flut_02)"
   ]
  },
  {
   "cell_type": "code",
   "execution_count": null,
   "metadata": {},
   "outputs": [],
   "source": [
    "#Váriaveis Bool\n",
    "var_bool_01 = True\n",
    "var_bool_02 = False\n",
    "print(var_bool_01, var_bool_02)"
   ]
  },
  {
   "cell_type": "code",
   "execution_count": null,
   "metadata": {},
   "outputs": [],
   "source": [
    "#Lista sequendia de dados com colchetes\n",
    "list_01 = [0, 5, 10, 15, 20, 25, 30, 35,40, 45, 50]\n",
    "list_02 =[\"Garro\", \"Palacios\", \"Torres\", \"Coronado\", \"Raniele\", \"Wesley\", \"Cássio\"]\n",
    "list_03 = [\"Corinthians\", \"Paulista\", 1910, True, [1946]]\n",
    "list_01, list_02, list_03"
   ]
  },
  {
   "cell_type": "code",
   "execution_count": null,
   "metadata": {},
   "outputs": [],
   "source": [
    "#Tuplas - lista inalteravel\n",
    "Tupla_01 = (0,1,2,3)\n",
    "Tupla_02 = (\"texto\", False, 5)\n",
    "Tupla_01, Tupla_02"
   ]
  },
  {
   "cell_type": "code",
   "execution_count": null,
   "metadata": {},
   "outputs": [],
   "source": [
    "#Dicionários relacionais uma chave e um valor --- representados por chaves\n",
    "dicionario_01 ={\n",
    "    'Indice':'Valor',\n",
    "    'Nome': 'ID',\n",
    "    'Leandro': 'Id01',\n",
    "    'Marcelo': 'Id02',\n",
    "    'Lista': list_01,\n",
    "    'Tupla': Tupla_01\n",
    "}\n",
    "dicionario_01 #A repetição do nome do topo sem mais nada é o suficiente para dar um print do que foi inserido no bloco de código."
   ]
  }
 ],
 "metadata": {
  "kernelspec": {
   "display_name": "Python 3",
   "language": "python",
   "name": "python3"
  },
  "language_info": {
   "codemirror_mode": {
    "name": "ipython",
    "version": 3
   },
   "file_extension": ".py",
   "mimetype": "text/x-python",
   "name": "python",
   "nbconvert_exporter": "python",
   "pygments_lexer": "ipython3",
   "version": "3.10.13"
  }
 },
 "nbformat": 4,
 "nbformat_minor": 2
}
